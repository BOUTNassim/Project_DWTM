{
  "nbformat": 4,
  "nbformat_minor": 0,
  "metadata": {
    "colab": {
      "name": "datamining.ipynb",
      "provenance": [],
      "collapsed_sections": []
    },
    "kernelspec": {
      "name": "python3",
      "display_name": "Python 3.9.0 64-bit",
      "metadata": {
        "interpreter": {
          "hash": "a3741996b6724108c17a689a9e3d4b909080a49288b8ca84228b1bbb1f3755d8"
        }
      }
    }
  },
  "cells": [
    {
      "source": [
        "# ENSIAS - Master Bio-MSCS\n",
        "## Data, Web, Text Mining course\n",
        "## BENNAID - BOUT - MARSINE - ROUIMYATE"
      ],
      "cell_type": "markdown",
      "metadata": {}
    },
    {
      "cell_type": "code",
      "metadata": {
        "colab": {
          "base_uri": "https://localhost:8080/"
        },
        "id": "QPujT8bDPgFT",
        "outputId": "ace9bfc8-07eb-4705-e3dd-dfea3f0c0157"
      },
      "source": [
        "from google.colab import drive\n",
        "drive.mount('/content/drive')"
      ],
      "execution_count": null,
      "outputs": []
    },
    {
      "cell_type": "code",
      "metadata": {
        "id": "0sk3jWXnQIVu",
        "colab": {
          "base_uri": "https://localhost:8080/",
          "height": 340
        },
        "outputId": "5505dcb9-4629-4c0f-dcaf-eb40c6f4f030"
      },
      "source": [
        "import zipfile\n",
        "with zipfile.ZipFile('/content/drive/MyDrive/Dest_fna.zip', 'r') as zip_ref:\n",
        "    zip_ref.extractall('/content/sample_data/Dest_fna')"
      ],
      "execution_count": null,
      "outputs": []
    },
    {
      "cell_type": "code",
      "metadata": {
        "colab": {
          "base_uri": "https://localhost:8080/",
          "height": 35
        },
        "id": "_sSNo496RFGe",
        "outputId": "89df4cef-a218-450b-801c-b06bf3abcedb"
      },
      "source": [
        "from shutil import copyfile\n",
        "copyfile('/content/drive/MyDrive/12859_2018_2403_MOESM2_ESM.csv', '/content/sample_data/12859_2018_2403_MOESM2_ESM.csv')"
      ],
      "execution_count": null,
      "outputs": []
    },
    {
      "cell_type": "code",
      "metadata": {
        "colab": {
          "base_uri": "https://localhost:8080/"
        },
        "id": "pPVnmL_xT4j8",
        "outputId": "ab49c5bd-1885-4f45-d957-ca513e27035f"
      },
      "source": [
        "import os\n",
        "import pandas as pd\n",
        "import shutil\n",
        "\n",
        "Org_dir = \"/content/sample_data/Dest_fna/Dest_fna/\"\n",
        "\n",
        "df = pd.read_csv('/content/sample_data/12859_2018_2403_MOESM2_ESM.csv', delimiter=';')\n",
        "\n",
        "fN = open(Org_dir+\"Not_Found.txt\", 'w')\n",
        "\n",
        "for x in df[\"fasta_file\"]:\n",
        "    fileName = x.strip()\n",
        "\n",
        "    if os.path.exists(Org_dir + fileName):\n",
        "        print(\"***** %s gene is found!\" % fileName +\" *****\")\n",
        "\n",
        "    else:\n",
        "        fN.write(fileName +\"\\n\")\n",
        "        print(\"Writing the Name not found ...\")"
      ],
      "execution_count": null,
      "outputs": []
    },
    {
      "cell_type": "code",
      "metadata": {
        "id": "exWOPqdLUGLl"
      },
      "source": [
        "import re\n",
        "import glob\n",
        "\n",
        "#Pay attention to the folder's path\n",
        "for fna in glob.glob(\"/content/sample_data/Dest_fna/Dest_fna/*.fna\"):\n",
        "    #print(fna) \n",
        "    with open(fna, \"r\") as f:\n",
        "        lines = f.readlines()\n",
        "    with open(fna, \"w\") as f:\n",
        "        for line in lines:\n",
        "            if re.match('^[>]', line) is not None:\n",
        "                print(\"I deleted the '>' line in\", fna)\n",
        "            else:\n",
        "                f.write(line)"
      ],
      "execution_count": null,
      "outputs": []
    },
    {
      "cell_type": "code",
      "metadata": {
        "colab": {
          "base_uri": "https://localhost:8080/"
        },
        "id": "fz4_YMYJZEfK",
        "outputId": "3313ee70-888f-4f52-860b-a13962e6e35a"
      },
      "source": [
        "!pip install biopython"
      ],
      "execution_count": null,
      "outputs": []
    },
    {
      "cell_type": "code",
      "metadata": {
        "colab": {
          "base_uri": "https://localhost:8080/"
        },
        "id": "ZBarRvsKbwH_",
        "outputId": "e6bf7d7f-b9b1-42dc-9b6f-c266caf3528c"
      },
      "source": [
        "import pandas as pd\n",
        "\n",
        "df = pd.read_csv('/content/sample_data/12859_2018_2403_MOESM2_ESM.csv', delimiter=';')\n",
        "print(df)"
      ],
      "execution_count": null,
      "outputs": []
    },
    {
      "cell_type": "code",
      "metadata": {
        "colab": {
          "base_uri": "https://localhost:8080/"
        },
        "id": "XQWs96CB9X4d",
        "outputId": "5a9756ec-3e00-498d-91dd-23dba40538b5"
      },
      "source": [
        "#New code\n",
        "import pandas as pd\n",
        "import numpy as np\n",
        "\n",
        "gene = pd.read_csv('/content/sample_data/12859_2018_2403_MOESM2_ESM.csv', delimiter=';')\n",
        "for fna in glob.glob(\"/content/sample_data/Dest_fna/Dest_fna/*.fna\"):\n",
        "    indx = gene[gene[\"fasta_file\"] == fna[39:]]\n",
        "    for row in indx.index:\n",
        "      print(row,\" <---|---> \", fna[39:])\n",
        "      #or\n",
        "    #indx.List = list(indx.index)"
      ],
      "execution_count": null,
      "outputs": []
    },
    {
      "cell_type": "code",
      "metadata": {
        "id": "_d535ymBd3nf"
      },
      "source": [
        "import numpy as np\n",
        "import re\n",
        "def string_to_array(seq_string):\n",
        "   seq_string = seq_string.lower()\n",
        "   seq_string = re.sub('[^acgt]', 'n', seq_string)\n",
        "   seq_string = np.array(list(seq_string))\n",
        "   return seq_string\n",
        "# create a label encoder with 'acgtn' alphabet\n",
        "from sklearn.preprocessing import LabelEncoder\n",
        "label_encoder = LabelEncoder()\n",
        "label_encoder.fit(np.array(['a','c','g','t','n']))\n",
        "\n",
        "def ordinal_encoder(my_array):\n",
        "   integer_encoded = label_encoder.transform(my_array)\n",
        "   float_encoded = integer_encoded.astype(float)\n",
        "   float_encoded[float_encoded == 0] = 0.25 # A\n",
        "   float_encoded[float_encoded == 1] = 0.50 # C\n",
        "   float_encoded[float_encoded == 2] = 0.75 # G\n",
        "   float_encoded[float_encoded == 3] = 1.00 # T\n",
        "   float_encoded[float_encoded == 4] = 0.00 # anything else, lets say n\n",
        "   return float_encoded\n",
        "\n"
      ],
      "execution_count": null,
      "outputs": []
    },
    {
      "cell_type": "code",
      "metadata": {
        "id": "l7t7Y_c6e4FG"
      },
      "source": [
        "def listToString(s):  \n",
        "    \n",
        "    # initialize an empty string \n",
        "    str1 = \"\"  \n",
        "    \n",
        "    # traverse in the string   \n",
        "    for ele in s:  \n",
        "        str1 += ele   \n",
        "    \n",
        "    # return string   \n",
        "    return str1  \n",
        "        \n",
        "  "
      ],
      "execution_count": null,
      "outputs": []
    },
    {
      "cell_type": "code",
      "metadata": {
        "id": "Or1d65vUlFz0"
      },
      "source": [
        "from sklearn.preprocessing import OneHotEncoder\n",
        "def one_hot_encoder(my_array):\n",
        "    integer_encoded = label_encoder.transform(my_array)\n",
        "    onehot_encoder = OneHotEncoder(sparse=False, dtype=int)\n",
        "    integer_encoded = integer_encoded.reshape(len(integer_encoded), 1)\n",
        "    onehot_encoded = onehot_encoder.fit_transform(integer_encoded)\n",
        "    onehot_encoded = np.delete(onehot_encoded, -1, 1)\n",
        "    return onehot_encoded"
      ],
      "execution_count": null,
      "outputs": []
    },
    {
      "cell_type": "code",
      "metadata": {
        "colab": {
          "base_uri": "https://localhost:8080/",
          "height": 493
        },
        "id": "GNHYPJHPrr8h",
        "outputId": "f2aa41f4-1aab-490f-e437-4ba92ad173db"
      },
      "source": [
        "import os\n",
        "import os.path as path\n",
        "import numpy as np\n",
        "from tempfile import mkdtemp\n",
        "\n",
        "file_col = df.loc[:,'fasta_file']\n",
        "files = file_col.values\n",
        "\n",
        "ethambutol_col = df.loc[:,'ethambutol']\n",
        "ethambutol_label = ethambutol_col.values\n",
        "\n",
        "ethionamide_col = df.loc[:,'ethionamide']\n",
        "ethionamide_label = ethionamide_col.values\n",
        "\n",
        "isoniazid_col = df.loc[:,'isoniazid']\n",
        "isoniazid_label = isoniazid_col.values\n",
        "\n",
        "\n",
        "kanamycin_col = df.loc[:,'kanamycin']\n",
        "kanamycin_label = kanamycin_col.values\n",
        "\n",
        "\n",
        "ofloxacin_col = df.loc[:,'ofloxacin']\n",
        "ofloxacin_label = ofloxacin_col.values\n",
        "\n",
        "\n",
        "rifampicin_col = df.loc[:,'rifampicin']\n",
        "rifampicin_label = rifampicin_col.values\n",
        "\n",
        "\n",
        "streptomycin_col = df.loc[:,'streptomycin']\n",
        "streptomycin_label = streptomycin_col.values\n",
        "\n",
        "sequences = []\n",
        "exist_files = []\n",
        "i = 0\n",
        "\n",
        "filename = path.join(mkdtemp(), '/content/sample_data/newfile.dat')   \n",
        "\n",
        "for file in files:\n",
        "    if os.path.exists('/content/sample_data/Dest_fna/Dest_fna/'+file):\n",
        "        exist_files.append(file)\n",
        "        i = i+1    \n",
        "        print(file)\n",
        "        if i == 1:\n",
        "          with open('/content/sample_data/Dest_fna/Dest_fna/'+file, \"r\") as f:\n",
        "              data = f.read().replace('\\n', '')\n",
        "              sequence = one_hot_encoder(string_to_array(data))\n",
        "              fpath = np.memmap(filename, dtype='float32', mode='w+', shape=(len(sequence),3))\n",
        "              sequence = np.array(sequence)\n",
        "              fpath[:,:] = sequence[:,:]\n",
        "              #sequences.append(sequence)\n",
        "              print(len(sequence))\n",
        "              print(len(sequence[0]))\n",
        "\n",
        "        else :\n",
        "            with open('/content/sample_data/Dest_fna/Dest_fna/'+file, \"r\") as f:\n",
        "              data = f.read().replace('\\n', '')\n",
        "              sequence = one_hot_encoder(string_to_array(data))\n",
        "              fpath = np.memmap(filename, dtype='float32', mode='r+', shape=(len(sequence),len(sequence[0])))\n",
        "              sequence = np.array(sequence)\n",
        "              fpath[:,:] = sequence[:,:]\n",
        "              fpath.flush()\n",
        "              #sequences.append(sequence)\n",
        "              print(len(sequence))\n",
        "              print(len(sequence[0]))\n",
        "              print(sequence.shape)\n",
        "        #for seq_record in SeqIO.parse('/content/sample_data/Dest_fna/Dest_fna/'+file, \"fasta\"):\n",
        "        #    sequence=[]\n",
        "        #    sequence.append(one_hot_encoder(string_to_array(listToString(seq_record.seq))))\n",
        "        #sequences.append(sequence)\n",
        "        \n",
        "    else:\n",
        "        print('File not found')\n",
        "\n",
        "print(fpath.shape)\n"
      ],
      "execution_count": null,
      "outputs": []
    },
    {
      "cell_type": "code",
      "metadata": {
        "colab": {
          "base_uri": "https://localhost:8080/"
        },
        "id": "4gMSDECT5hYU",
        "outputId": "315a80a2-9e2a-4921-b4a6-ec2c9054b4f8"
      },
      "source": [
        "import os\n",
        "import os.path as path\n",
        "import numpy as np\n",
        "from tempfile import mkdtemp\n",
        "\n",
        "file_col = df.loc[:,'fasta_file']\n",
        "files = file_col.values\n",
        "\n",
        "sequences = []\n",
        "exist_files = []\n",
        "i = 0\n",
        "\n",
        "filename = path.join(mkdtemp(), '/content/sample_data/newfile.dat')   \n",
        "\n",
        "for file in files:\n",
        "    if os.path.exists('/content/sample_data/Dest_fna/Dest_fna/'+file):\n",
        "        i = i+1    \n",
        "        if i < 113 :\n",
        "          exist_files.append(file)\n",
        "          with open('/content/sample_data/Dest_fna/Dest_fna/'+file, \"r\") as f:\n",
        "              data = f.read().replace('\\n', '')\n",
        "              sequence = one_hot_encoder(string_to_array(data))\n",
        "              fpath = np.memmap(filename, dtype='float32', mode='w+', shape=(len(sequence),3))\n",
        "              sequence = np.array(sequence)\n",
        "              fpath[:,:] = sequence[:,:]\n",
        "              #sequences.append(sequence)\n",
        "\n",
        "    else:\n",
        "        print('File not found')\n",
        "\n"
      ],
      "execution_count": null,
      "outputs": []
    },
    {
      "cell_type": "code",
      "metadata": {
        "colab": {
          "base_uri": "https://localhost:8080/"
        },
        "id": "zEBBFa71aQjP",
        "outputId": "39360b9f-6298-4e06-a068-99dfbc8f019d"
      },
      "source": [
        "print(len(exist_files))\n",
        "print(exist_files[1])\n",
        "X = np.array(sequences)\n",
        "print(X.shape)"
      ],
      "execution_count": null,
      "outputs": []
    },
    {
      "cell_type": "code",
      "metadata": {
        "colab": {
          "base_uri": "https://localhost:8080/"
        },
        "id": "eKdn1pyNJF_B",
        "outputId": "24df68e5-f7f5-49fe-defe-0045d8d5c50e"
      },
      "source": [
        "#print(df[df[\"fasta_file\"]==exist_files[550]].index.values[0])\n",
        "\n",
        "exist_index = []\n",
        "\n",
        "#for index, row in df.iterrows():\n",
        " # print(row[\"fasta_file\"])\n",
        "\n",
        "for index, row in df.iterrows():\n",
        "    if row[\"fasta_file\"] in exist_files : \n",
        "      exist_index.append(index)\n",
        "\n",
        "print(len(exist_index))\n"
      ],
      "execution_count": null,
      "outputs": []
    },
    {
      "cell_type": "code",
      "metadata": {
        "id": "3-q4D1WzRwwa"
      },
      "source": [
        "y = []\n",
        "\n",
        "for index, row in df.iterrows():\n",
        "  if index in exist_index : \n",
        "    label = []\n",
        "    label.append(row[\"ethambutol\"])\n",
        "    label.append(row[\"ethionamide\"])\n",
        "    label.append(row[\"isoniazid\"])\n",
        "    label.append(row[\"kanamycin\"])\n",
        "    label.append(row[\"ofloxacin\"])\n",
        "    label.append(row[\"rifampicin\"])\n",
        "    label.append(row[\"streptomycin\"])\n",
        "    y.append(label)\n"
      ],
      "execution_count": null,
      "outputs": []
    },
    {
      "cell_type": "code",
      "metadata": {
        "colab": {
          "base_uri": "https://localhost:8080/"
        },
        "id": "R1NsXCaEXKoj",
        "outputId": "1c48e705-4096-4d09-b23b-7dcab7f0eb48"
      },
      "source": [
        "y = np.array(y)\n",
        "print(X.shape)\n",
        "print(y.shape)"
      ],
      "execution_count": null,
      "outputs": []
    },
    {
      "cell_type": "code",
      "metadata": {
        "id": "iVd5F6axcKSh",
        "colab": {
          "base_uri": "https://localhost:8080/",
          "height": 1000
        },
        "outputId": "f6cc8331-dca6-4725-9a56-6cb4edbeea1e"
      },
      "source": [
        "from sklearn import model_selection\n",
        "\n",
        "results = []\n",
        "names = []\n",
        "\n",
        "# define seed for reproducibility\n",
        "seed = 1\n",
        "\n",
        "# split data into training and testing datasets\n",
        "X_train, X_test, y_train, y_test = model_selection.train_test_split(X, y, test_size=0.25, random_state=seed)\n",
        "\n",
        "from sklearn.svm import SVC\n",
        "from sklearn.metrics import classification_report, accuracy_score\n",
        "\n",
        "scoring = 'accuracy'\n",
        "\n",
        "kfold = model_selection.KFold(n_splits=10, random_state = seed)\n",
        "model = SVC(kernel='linear')\n",
        "cv_results = model_selection.cross_val_score(model, X_train, y_train, cv=kfold, scoring=scoring)\n",
        "results.append(cv_results)\n",
        "#msg = \"%s: %f (%f)\" % (name, cv_results.mean(), cv_results.std())\n",
        "#print(msg)\n",
        "\n",
        "model.fit(X_train, y_train)\n",
        "predictions = model.predict(X_test)\n",
        "print('Test-- ',name,': ',accuracy_score(y_test, predictions))\n",
        "print()\n",
        "print(classification_report(y_test, predictions))"
      ],
      "execution_count": null,
      "outputs": []
    }
  ]
}